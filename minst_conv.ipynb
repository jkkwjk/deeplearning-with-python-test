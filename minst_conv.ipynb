{
 "cells": [
  {
   "cell_type": "code",
   "execution_count": 43,
   "metadata": {},
   "outputs": [],
   "source": [
    "# 卷积神经网络搭建 \n",
    "from keras import layers\n",
    "from keras import models\n",
    "from keras.datasets import mnist\n",
    "\n",
    "model = models.Sequential()\n",
    "model.add(layers.Conv2D(32,(3,3),activation='relu',input_shape = (28,28,1)))\n",
    "model.add(layers.MaxPool2D(2,2))\n",
    "model.add(layers.Conv2D(64,(3,3),activation='relu'))\n",
    "model.add(layers.MaxPool2D(2,2))\n",
    "model.add(layers.Conv2D(64,(3,3),activation='relu'))\n",
    "model.add(layers.Flatten())\n",
    "model.add(layers.Dense(64,activation='relu'))\n",
    "model.add(layers.Dense(10,activation='softmax'))"
   ]
  },
  {
   "cell_type": "code",
   "execution_count": 48,
   "metadata": {},
   "outputs": [
    {
     "name": "stdout",
     "output_type": "stream",
     "text": [
      "Train on 53000 samples, validate on 53000 samples\n",
      "Epoch 1/2\n",
      "53000/53000 [==============================] - 9s 176us/step - loss: 0.0349 - acc: 0.9892 - val_loss: 0.0211 - val_acc: 0.9940\n",
      "Epoch 2/2\n",
      "53000/53000 [==============================] - 9s 165us/step - loss: 0.0257 - acc: 0.9918 - val_loss: 0.0151 - val_acc: 0.9957\n"
     ]
    }
   ],
   "source": [
    "import numpy as np\n",
    "import keras\n",
    "(train_data,train_lable),(test_data,test_lable) = mnist.load_data()\n",
    "train_data = train_data.reshape((60000, 28, 28, 1))\n",
    "test_data = test_data.reshape((10000, 28, 28, 1))\n",
    "train_data = train_data.astype('float32')/255\n",
    "test_data = test_data.astype('float32')/255\n",
    "\n",
    "val_data = train_data[:7000]\n",
    "val_lable = train_data[:7000]\n",
    "\n",
    "train_data = train_data[7000:]\n",
    "train_lable = train_lable[7000:]\n",
    "\n",
    "train_lable = keras.utils.to_categorical(train_lable)\n",
    "test_lable = keras.utils.to_categorical(test_lable)\n",
    "\n",
    "model.compile(optimizer='rmsprop',loss='categorical_crossentropy',metrics=['acc'])\n",
    "his = model.fit(train_data,train_lable,epochs=2,batch_size=128,validation_data=(train_data,train_lable))"
   ]
  },
  {
   "cell_type": "code",
   "execution_count": 53,
   "metadata": {},
   "outputs": [
    {
     "name": "stdout",
     "output_type": "stream",
     "text": [
      "10000/10000 [==============================] - 1s 86us/step\n",
      "0.992\n"
     ]
    }
   ],
   "source": [
    "loss,acc = model.evaluate(test_data,test_lable)\n",
    "print(acc)"
   ]
  }
 ],
 "metadata": {
  "kernelspec": {
   "display_name": "Python 3",
   "language": "python",
   "name": "python3"
  },
  "language_info": {
   "codemirror_mode": {
    "name": "ipython",
    "version": 3
   },
   "file_extension": ".py",
   "mimetype": "text/x-python",
   "name": "python",
   "nbconvert_exporter": "python",
   "pygments_lexer": "ipython3",
   "version": "3.6.8"
  }
 },
 "nbformat": 4,
 "nbformat_minor": 2
}
