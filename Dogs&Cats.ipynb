{
 "cells": [
  {
   "cell_type": "code",
   "execution_count": 2,
   "metadata": {},
   "outputs": [],
   "source": [
    "# OS与shutil的使用  创建训练目录\n",
    "import os,shutil\n",
    "download_path = '/home/jkk/data/train'\n",
    "obj_path = '/home/jkk/data/small_train'\n",
    "os.mkdir(obj_path)\n",
    "\n",
    "train_path = os.path.join(obj_path,'train')\n",
    "dog_train_path = os.path.join(train_path,'dogs')\n",
    "cat_train_path = os.path.join(train_path,'cats')\n",
    "os.mkdir(train_path)\n",
    "\n",
    "test_path = os.path.join(obj_path,'test')\n",
    "dog_test_path = os.path.join(test_path,'dogs')\n",
    "cat_test_path = os.path.join(test_path,'cats')\n",
    "os.mkdir(test_path)\n",
    "\n",
    "val_path = os.path.join(obj_path,'val')\n",
    "dog_val_path = os.path.join(val_path,'dogs')\n",
    "cat_val_path = os.path.join(val_path,'cats')\n",
    "os.mkdir(val_path)\n",
    "\n",
    "os.mkdir(dog_test_path)\n",
    "os.mkdir(dog_train_path)\n",
    "os.mkdir(dog_val_path)\n",
    "\n",
    "os.mkdir(cat_test_path)\n",
    "os.mkdir(cat_train_path)\n",
    "os.mkdir(cat_val_path)"
   ]
  },
  {
   "cell_type": "code",
   "execution_count": 3,
   "metadata": {},
   "outputs": [],
   "source": [
    "#复制文件\n",
    "dog_train = [download_path+'/dog.{}.jpg'.format(i) for i in range(1000)]\n",
    "for i,dog in enumerate(dog_train):\n",
    "    shutil.copy(dog,dog_train_path+'/{}.jpg'.format(i))\n",
    "\n",
    "dog_test = [download_path+'/dog.{}.jpg'.format(i) for i in range(1000,1500)]\n",
    "for i,dog in enumerate(dog_test):\n",
    "    shutil.copy(dog,dog_test_path+'/{}.jpg'.format(i))\n",
    "\n",
    "dog_val = [download_path+'/dog.{}.jpg'.format(i) for i in range(1500,2000)]\n",
    "for i,dog in enumerate(dog_val):\n",
    "    shutil.copy(dog,dog_val_path+'/{}.jpg'.format(i))\n",
    "\n",
    "cat_train = [download_path+'/cat.{}.jpg'.format(i) for i in range(1000)]\n",
    "for i,cat in enumerate(cat_train):\n",
    "    shutil.copy(cat,cat_train_path+'/{}.jpg'.format(i))\n",
    "\n",
    "cat_test = [download_path+'/cat.{}.jpg'.format(i) for i in range(1000,1500)]\n",
    "for i,cat in enumerate(cat_test):\n",
    "    shutil.copy(cat,cat_test_path+'/{}.jpg'.format(i))\n",
    "\n",
    "cat_val = [download_path+'/cat.{}.jpg'.format(i) for i in range(1500,2000)]\n",
    "for i,cat in enumerate(cat_val):\n",
    "    shutil.copy(cat,cat_val_path+'/{}.jpg'.format(i))\n"
   ]
  },
  {
   "cell_type": "code",
   "execution_count": 12,
   "metadata": {},
   "outputs": [],
   "source": [
    "from keras import layers\n",
    "from keras import models\n",
    "model = models.Sequential()\n",
    "model.add(layers.Conv2D(32,(3,3),activation = 'relu',input_shape = (150,150,3)))\n",
    "model.add(layers.MaxPool2D((2,2)))\n",
    "model.add(layers.Conv2D(64,(3,3),activation = 'relu'))\n",
    "model.add(layers.MaxPool2D((2,2)))\n",
    "model.add(layers.Conv2D(128,(3,3),activation = 'relu'))\n",
    "model.add(layers.MaxPool2D((2,2)))\n",
    "model.add(layers.Conv2D(128,(3,3),activation = 'relu'))\n",
    "model.add(layers.MaxPool2D((2,2)))\n",
    "model.add(layers.Flatten())\n",
    "model.add(layers.Dense(512,activation = 'relu'))\n",
    "model.add(layers.Dense(1,activation = 'sigmoid'))\n",
    "\n",
    "model.compile(optimizer = 'rmsprop',loss = 'binary_crossentropy',metrics=['acc'])"
   ]
  },
  {
   "cell_type": "code",
   "execution_count": 5,
   "metadata": {},
   "outputs": [
    {
     "name": "stdout",
     "output_type": "stream",
     "text": [
      "Found 2000 images belonging to 2 classes.\n",
      "Found 1000 images belonging to 2 classes.\n"
     ]
    }
   ],
   "source": [
    "# 利用keras自带的图像处理\n",
    "from keras.preprocessing.image import ImageDataGenerator\n",
    "train_datagen = ImageDataGenerator(rescale=1./255)\n",
    "val_datagen = ImageDataGenerator(rescale=1./255)\n",
    "\n",
    "train_gen = train_datagen.flow_from_directory(train_path,target_size=(150,150),batch_size=20,class_mode='binary')\n",
    "val_gen = val_datagen.flow_from_directory(val_path,target_size=(150,150),batch_size=20,class_mode='binary')\n",
    "\n"
   ]
  },
  {
   "cell_type": "code",
   "execution_count": 8,
   "metadata": {
    "collapsed": true
   },
   "outputs": [
    {
     "name": "stdout",
     "output_type": "stream",
     "text": [
      "Epoch 1/10\n",
      "100/100 [==============================] - 12s 119ms/step - loss: 0.0918 - acc: 0.9680 - val_loss: 1.5267 - val_acc: 0.7140\n",
      "Epoch 2/10\n",
      "100/100 [==============================] - 12s 118ms/step - loss: 0.0866 - acc: 0.9735 - val_loss: 1.9596 - val_acc: 0.6910\n",
      "Epoch 3/10\n",
      "100/100 [==============================] - 12s 119ms/step - loss: 0.1164 - acc: 0.9680 - val_loss: 1.6674 - val_acc: 0.7240\n",
      "Epoch 4/10\n",
      "100/100 [==============================] - 12s 120ms/step - loss: 0.1137 - acc: 0.9730 - val_loss: 1.3152 - val_acc: 0.6840\n",
      "Epoch 5/10\n",
      "100/100 [==============================] - 12s 120ms/step - loss: 0.0683 - acc: 0.9795 - val_loss: 1.6708 - val_acc: 0.6970\n",
      "Epoch 6/10\n",
      "100/100 [==============================] - 12s 121ms/step - loss: 0.0723 - acc: 0.9800 - val_loss: 2.1565 - val_acc: 0.7080\n",
      "Epoch 7/10\n",
      "100/100 [==============================] - 12s 121ms/step - loss: 0.0617 - acc: 0.9840 - val_loss: 1.9956 - val_acc: 0.6900\n",
      "Epoch 8/10\n",
      "100/100 [==============================] - 12s 121ms/step - loss: 0.0493 - acc: 0.9845 - val_loss: 2.1108 - val_acc: 0.7140\n",
      "Epoch 9/10\n",
      "100/100 [==============================] - 12s 121ms/step - loss: 0.0534 - acc: 0.9880 - val_loss: 1.8439 - val_acc: 0.7030\n",
      "Epoch 10/10\n",
      "100/100 [==============================] - 12s 121ms/step - loss: 0.0436 - acc: 0.9900 - val_loss: 2.1072 - val_acc: 0.7160\n"
     ]
    }
   ],
   "source": [
    "# 拟合\n",
    "his = model.fit_generator(train_gen,steps_per_epoch=100,epochs=10,validation_data=val_gen,validation_steps=50)\n"
   ]
  },
  {
   "cell_type": "code",
   "execution_count": 11,
   "metadata": {},
   "outputs": [
    {
     "data": {
      "image/png": "[encoded data removed]",
      "text/plain": [
       "<Figure size 1152x648 with 2 Axes>"
      ]
     },
     "metadata": {
      "needs_background": "light"
     },
     "output_type": "display_data"
    }
   ],
   "source": [
    "### 生成图像分析\n",
    "import matplotlib.pyplot as plt\n",
    "%matplotlib inline\n",
    "\n",
    "l_val_loss = his.history['val_loss']\n",
    "l_val_acc = his.history['val_acc']\n",
    "l_loss = his.history['loss']\n",
    "l_acc = his.history['acc']\n",
    "\n",
    "epochs = range(1,len(l_acc)+1)\n",
    "\n",
    "plt.figure(figsize=(16, 9)) # 设置图表大小\n",
    "plt.subplot(222) # 拆分子块\n",
    "plt.plot(epochs, l_acc, 'ro', label='Training acc') # 'bo'蓝点\n",
    "plt.plot(epochs, l_val_acc, label='Validation acc') # 'b'蓝线\n",
    "\n",
    "plt.title('Training and validation acc')\n",
    "plt.xlabel('epochs')\n",
    "plt.ylabel('acc')\n",
    "plt.legend()\n",
    "\n",
    "plt.subplot(221)\n",
    "plt.plot(epochs, l_loss, 'ro', label='Training loss') # 'bo'蓝点\n",
    "plt.plot(epochs, l_val_loss, label='Validation loss') # 'b'蓝线\n",
    "\n",
    "plt.title('Training and validation loss')\n",
    "plt.xlabel('epochss')\n",
    "plt.ylabel('loss')\n",
    "plt.legend()\n",
    "\n",
    "plt.show()"
   ]
  },
  {
   "cell_type": "code",
   "execution_count": 15,
   "metadata": {},
   "outputs": [
    {
     "name": "stdout",
     "output_type": "stream",
     "text": [
      "Epoch 1/1\n",
      "100/100 [==============================] - 12s 119ms/step - loss: 0.5017 - acc: 0.7595 - val_loss: 0.5816 - val_acc: 0.7000\n"
     ]
    }
   ],
   "source": [
    "# 最佳模型\n",
    "his = model.fit_generator(train_gen,steps_per_epoch=100,epochs=1,validation_data=val_gen,validation_steps=50)\n"
   ]
  },
  {
   "cell_type": "code",
   "execution_count": 16,
   "metadata": {},
   "outputs": [],
   "source": [
    "model.save_weights('no_zengjia.h5')"
   ]
  },
  {
   "cell_type": "code",
   "execution_count": null,
   "metadata": {},
   "outputs": [],
   "source": []
  }
 ],
 "metadata": {
  "kernelspec": {
   "display_name": "Python 3",
   "language": "python",
   "name": "python3"
  },
  "language_info": {
   "codemirror_mode": {
    "name": "ipython",
    "version": 3
   },
   "file_extension": ".py",
   "mimetype": "text/x-python",
   "name": "python",
   "nbconvert_exporter": "python",
   "pygments_lexer": "ipython3",
   "version": "3.6.8"
  }
 },
 "nbformat": 4,
 "nbformat_minor": 2
}
