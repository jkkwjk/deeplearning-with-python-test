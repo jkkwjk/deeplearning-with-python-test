{
 "cells": [
  {
   "cell_type": "code",
   "execution_count": 2,
   "metadata": {},
   "outputs": [
    {
     "name": "stderr",
     "output_type": "stream",
     "text": [
      "Using TensorFlow backend.\n"
     ]
    }
   ],
   "source": [
    "# 加载数据并格式化\n",
    "from keras.datasets import boston_housing as housing\n",
    "(train_data,train_tar),(test_data,test_tar) = housing.load_data() # (,13)\n",
    "# 训练数据标准化\n",
    "mean = train_data.mean(axis = 0)\n",
    "train_data -= mean # 减平均值\n",
    "std = train_data.std(axis = 0)\n",
    "train_data /= std # 除标准差\n",
    "# 测试数据标准化\n",
    "test_data -= mean\n",
    "test_data /= std\n"
   ]
  },
  {
   "cell_type": "code",
   "execution_count": 3,
   "metadata": {},
   "outputs": [],
   "source": [
    "# 搭建网络\n",
    "from keras import models\n",
    "from keras import layers\n",
    "\n",
    "def buildModel():\n",
    "    model = models.Sequential()\n",
    "    model.add(layers.Dense(64, activation = 'relu', input_shape=(13, )))\n",
    "    model.add(layers.Dense(64, activation = 'relu',))\n",
    "    model.add(layers.Dense(1, ))\n",
    "    model.compile(optimizer='rmsprop',loss='mse',metrics=['mae'])\n",
    "    return model\n"
   ]
  },
  {
   "cell_type": "code",
   "execution_count": 7,
   "metadata": {
    "scrolled": true
   },
   "outputs": [
    {
     "name": "stdout",
     "output_type": "stream",
     "text": [
      "现在是   0\n",
      "现在是   1\n",
      "现在是   2\n",
      "现在是   3\n"
     ]
    }
   ],
   "source": [
    "# 多个分区验证模型精度   适合少样本 K折训练法\n",
    "import numpy as np\n",
    "k = 4\n",
    "every = len(train_data) // k\n",
    "e = 500\n",
    "all_his = []\n",
    "for i in range(k):\n",
    "    print(\"现在是  \",i)\n",
    "    val_data = train_data[i*every : (i+1)*every]\n",
    "    val_tar = train_tar[i*every : (i+1)*every]\n",
    "    \n",
    "    train_to_data = np.concatenate([train_data[:i*every],train_data[(i+1)*every:]],axis=0)\n",
    "    train_to_tar = np.concatenate([train_tar[:i*every],train_tar[(i+1)*every:]],axis=0)\n",
    "    \n",
    "    model = buildModel()\n",
    "    his = model.fit(train_to_data,train_to_tar,epochs = e, batch_size=8, verbose=0,validation_data=(val_data,val_tar))\n",
    "    val_his = his.history['val_mean_absolute_error']\n",
    "    all_his.append(val_his)\n"
   ]
  },
  {
   "cell_type": "code",
   "execution_count": 8,
   "metadata": {},
   "outputs": [
    {
     "data": {
      "image/png": "[encoded data removed]",
      "text/plain": [
       "<Figure size 432x288 with 1 Axes>"
      ]
     },
     "metadata": {
      "needs_background": "light"
     },
     "output_type": "display_data"
    }
   ],
   "source": [
    "#绘图\n",
    "import matplotlib.pyplot as plt\n",
    "ave_his = [np.mean([x[i] for x in all_his]) for i in range(e)]\n",
    "%matplotlib inline\n",
    "plt.plot(range(1,len(ave_his)+1),ave_his)\n",
    "plt.show()"
   ]
  },
  {
   "cell_type": "code",
   "execution_count": 12,
   "metadata": {},
   "outputs": [
    {
     "data": {
      "image/png": "[encoded data removed]",
      "text/plain": [
       "<Figure size 432x288 with 1 Axes>"
      ]
     },
     "metadata": {
      "needs_background": "light"
     },
     "output_type": "display_data"
    }
   ],
   "source": [
    "# 另一种绘图（绘制与前面的状态的差距）\n",
    "def smooth_curve(points, factor=0.9):\n",
    "    smoothed_points = []\n",
    "    for point in points:\n",
    "        if smoothed_points:\n",
    "            previous = smoothed_points[-1]\n",
    "            smoothed_points.append(previous * factor + point * (1 - factor))\n",
    "        else:\n",
    "            smoothed_points.append(point)\n",
    "    return smoothed_points\n",
    "smooth_ave_his = smooth_curve(ave_his[10:])\n",
    "plt.plot(range(51,301),smooth_ave_his[50:300])\n",
    "plt.show()"
   ]
  },
  {
   "cell_type": "code",
   "execution_count": 13,
   "metadata": {},
   "outputs": [
    {
     "name": "stdout",
     "output_type": "stream",
     "text": [
      "Epoch 1/80\n",
      "404/404 [==============================] - 0s 919us/step - loss: 421.3497 - mean_absolute_error: 18.3985\n",
      "Epoch 2/80\n",
      "404/404 [==============================] - 0s 418us/step - loss: 137.3866 - mean_absolute_error: 9.0226\n",
      "Epoch 3/80\n",
      "404/404 [==============================] - 0s 374us/step - loss: 46.9460 - mean_absolute_error: 5.0032\n",
      "Epoch 4/80\n",
      "404/404 [==============================] - 0s 281us/step - loss: 29.4327 - mean_absolute_error: 3.8641\n",
      "Epoch 5/80\n",
      "404/404 [==============================] - 0s 271us/step - loss: 23.3680 - mean_absolute_error: 3.3689\n",
      "Epoch 6/80\n",
      "404/404 [==============================] - 0s 282us/step - loss: 19.9666 - mean_absolute_error: 3.1078\n",
      "Epoch 7/80\n",
      "404/404 [==============================] - 0s 320us/step - loss: 17.5720 - mean_absolute_error: 2.9195\n",
      "Epoch 8/80\n",
      "404/404 [==============================] - 0s 295us/step - loss: 15.8635 - mean_absolute_error: 2.7592\n",
      "Epoch 9/80\n",
      "404/404 [==============================] - 0s 287us/step - loss: 14.6148 - mean_absolute_error: 2.6193\n",
      "Epoch 10/80\n",
      "404/404 [==============================] - 0s 565us/step - loss: 13.2969 - mean_absolute_error: 2.5309\n",
      "Epoch 11/80\n",
      "404/404 [==============================] - 0s 333us/step - loss: 12.4717 - mean_absolute_error: 2.4420\n",
      "Epoch 12/80\n",
      "404/404 [==============================] - 0s 324us/step - loss: 11.9062 - mean_absolute_error: 2.3789\n",
      "Epoch 13/80\n",
      "404/404 [==============================] - 0s 305us/step - loss: 11.2058 - mean_absolute_error: 2.3439\n",
      "Epoch 14/80\n",
      "404/404 [==============================] - 0s 297us/step - loss: 10.8187 - mean_absolute_error: 2.2854\n",
      "Epoch 15/80\n",
      "404/404 [==============================] - 0s 307us/step - loss: 10.3753 - mean_absolute_error: 2.2187\n",
      "Epoch 16/80\n",
      "404/404 [==============================] - 0s 314us/step - loss: 10.1718 - mean_absolute_error: 2.2063\n",
      "Epoch 17/80\n",
      "404/404 [==============================] - 0s 304us/step - loss: 9.9012 - mean_absolute_error: 2.1949\n",
      "Epoch 18/80\n",
      "404/404 [==============================] - 0s 276us/step - loss: 9.5014 - mean_absolute_error: 2.1162\n",
      "Epoch 19/80\n",
      "404/404 [==============================] - 0s 303us/step - loss: 9.3815 - mean_absolute_error: 2.1469\n",
      "Epoch 20/80\n",
      "404/404 [==============================] - 0s 310us/step - loss: 9.4997 - mean_absolute_error: 2.0912\n",
      "Epoch 21/80\n",
      "404/404 [==============================] - 0s 278us/step - loss: 9.1387 - mean_absolute_error: 2.0799\n",
      "Epoch 22/80\n",
      "404/404 [==============================] - 0s 319us/step - loss: 8.9624 - mean_absolute_error: 2.0591\n",
      "Epoch 23/80\n",
      "404/404 [==============================] - 0s 278us/step - loss: 9.0015 - mean_absolute_error: 2.0489\n",
      "Epoch 24/80\n",
      "404/404 [==============================] - 0s 282us/step - loss: 8.7955 - mean_absolute_error: 2.0334\n",
      "Epoch 25/80\n",
      "404/404 [==============================] - 0s 285us/step - loss: 8.5854 - mean_absolute_error: 2.0290\n",
      "Epoch 26/80\n",
      "404/404 [==============================] - 0s 280us/step - loss: 8.5051 - mean_absolute_error: 2.0304\n",
      "Epoch 27/80\n",
      "404/404 [==============================] - 0s 292us/step - loss: 8.4458 - mean_absolute_error: 1.9851\n",
      "Epoch 28/80\n",
      "404/404 [==============================] - 0s 318us/step - loss: 8.2317 - mean_absolute_error: 1.9786\n",
      "Epoch 29/80\n",
      "404/404 [==============================] - 0s 268us/step - loss: 8.0479 - mean_absolute_error: 1.9492\n",
      "Epoch 30/80\n",
      "404/404 [==============================] - 0s 279us/step - loss: 7.9810 - mean_absolute_error: 1.9414\n",
      "Epoch 31/80\n",
      "404/404 [==============================] - 0s 271us/step - loss: 8.0954 - mean_absolute_error: 1.9496\n",
      "Epoch 32/80\n",
      "404/404 [==============================] - 0s 278us/step - loss: 7.7840 - mean_absolute_error: 1.9191\n",
      "Epoch 33/80\n",
      "404/404 [==============================] - 0s 268us/step - loss: 7.6252 - mean_absolute_error: 1.9467\n",
      "Epoch 34/80\n",
      "404/404 [==============================] - 0s 293us/step - loss: 7.6994 - mean_absolute_error: 1.8980\n",
      "Epoch 35/80\n",
      "404/404 [==============================] - 0s 272us/step - loss: 7.3639 - mean_absolute_error: 1.9217\n",
      "Epoch 36/80\n",
      "404/404 [==============================] - 0s 309us/step - loss: 7.6519 - mean_absolute_error: 1.8860\n",
      "Epoch 37/80\n",
      "404/404 [==============================] - 0s 275us/step - loss: 7.4393 - mean_absolute_error: 1.8714\n",
      "Epoch 38/80\n",
      "404/404 [==============================] - 0s 278us/step - loss: 7.0399 - mean_absolute_error: 1.9087\n",
      "Epoch 39/80\n",
      "404/404 [==============================] - 0s 297us/step - loss: 7.3757 - mean_absolute_error: 1.8834\n",
      "Epoch 40/80\n",
      "404/404 [==============================] - 0s 516us/step - loss: 7.1806 - mean_absolute_error: 1.8596\n",
      "Epoch 41/80\n",
      "404/404 [==============================] - 0s 312us/step - loss: 7.0922 - mean_absolute_error: 1.8373\n",
      "Epoch 42/80\n",
      "404/404 [==============================] - 0s 282us/step - loss: 7.0714 - mean_absolute_error: 1.8410\n",
      "Epoch 43/80\n",
      "404/404 [==============================] - 0s 498us/step - loss: 6.9850 - mean_absolute_error: 1.8659\n",
      "Epoch 44/80\n",
      "404/404 [==============================] - 0s 383us/step - loss: 6.9718 - mean_absolute_error: 1.8080\n",
      "Epoch 45/80\n",
      "404/404 [==============================] - 0s 378us/step - loss: 6.9950 - mean_absolute_error: 1.8357\n",
      "Epoch 46/80\n",
      "404/404 [==============================] - 0s 443us/step - loss: 6.7969 - mean_absolute_error: 1.8159\n",
      "Epoch 47/80\n",
      "404/404 [==============================] - 0s 271us/step - loss: 6.6988 - mean_absolute_error: 1.8152\n",
      "Epoch 48/80\n",
      "404/404 [==============================] - 0s 306us/step - loss: 6.8618 - mean_absolute_error: 1.8108\n",
      "Epoch 49/80\n",
      "404/404 [==============================] - 0s 284us/step - loss: 6.5555 - mean_absolute_error: 1.8086\n",
      "Epoch 50/80\n",
      "404/404 [==============================] - 0s 325us/step - loss: 6.7516 - mean_absolute_error: 1.7679\n",
      "Epoch 51/80\n",
      "404/404 [==============================] - 0s 261us/step - loss: 6.5523 - mean_absolute_error: 1.7705\n",
      "Epoch 52/80\n",
      "404/404 [==============================] - 0s 309us/step - loss: 6.5813 - mean_absolute_error: 1.7890\n",
      "Epoch 53/80\n",
      "404/404 [==============================] - 0s 282us/step - loss: 6.3924 - mean_absolute_error: 1.7461\n",
      "Epoch 54/80\n",
      "404/404 [==============================] - 0s 329us/step - loss: 6.3286 - mean_absolute_error: 1.7436\n",
      "Epoch 55/80\n",
      "404/404 [==============================] - 0s 433us/step - loss: 6.4867 - mean_absolute_error: 1.7616\n",
      "Epoch 56/80\n",
      "404/404 [==============================] - 0s 314us/step - loss: 6.2875 - mean_absolute_error: 1.7126\n",
      "Epoch 57/80\n",
      "404/404 [==============================] - 0s 257us/step - loss: 6.1368 - mean_absolute_error: 1.7255\n",
      "Epoch 58/80\n",
      "404/404 [==============================] - 0s 294us/step - loss: 6.0044 - mean_absolute_error: 1.7299\n",
      "Epoch 59/80\n",
      "404/404 [==============================] - 0s 330us/step - loss: 6.1253 - mean_absolute_error: 1.7371\n",
      "Epoch 60/80\n",
      "404/404 [==============================] - 0s 467us/step - loss: 6.0150 - mean_absolute_error: 1.6969\n",
      "Epoch 61/80\n",
      "404/404 [==============================] - 0s 284us/step - loss: 6.0239 - mean_absolute_error: 1.6815\n",
      "Epoch 62/80\n",
      "404/404 [==============================] - 0s 374us/step - loss: 6.0277 - mean_absolute_error: 1.7360\n",
      "Epoch 63/80\n",
      "404/404 [==============================] - 0s 345us/step - loss: 5.8719 - mean_absolute_error: 1.6868\n",
      "Epoch 64/80\n",
      "404/404 [==============================] - 0s 257us/step - loss: 5.8023 - mean_absolute_error: 1.6566\n",
      "Epoch 65/80\n",
      "404/404 [==============================] - 0s 275us/step - loss: 5.9496 - mean_absolute_error: 1.7118\n",
      "Epoch 66/80\n",
      "404/404 [==============================] - 0s 294us/step - loss: 5.7344 - mean_absolute_error: 1.6657\n",
      "Epoch 67/80\n",
      "404/404 [==============================] - 0s 369us/step - loss: 5.6705 - mean_absolute_error: 1.6459\n",
      "Epoch 68/80\n",
      "404/404 [==============================] - 0s 300us/step - loss: 5.7354 - mean_absolute_error: 1.6727\n",
      "Epoch 69/80\n",
      "404/404 [==============================] - 0s 291us/step - loss: 5.7205 - mean_absolute_error: 1.6750\n",
      "Epoch 70/80\n",
      "404/404 [==============================] - 0s 307us/step - loss: 5.6556 - mean_absolute_error: 1.6534\n",
      "Epoch 71/80\n",
      "404/404 [==============================] - 0s 426us/step - loss: 5.3967 - mean_absolute_error: 1.6181\n",
      "Epoch 72/80\n",
      "404/404 [==============================] - 0s 318us/step - loss: 5.5795 - mean_absolute_error: 1.6424\n",
      "Epoch 73/80\n",
      "404/404 [==============================] - 0s 476us/step - loss: 5.4195 - mean_absolute_error: 1.6385\n",
      "Epoch 74/80\n",
      "404/404 [==============================] - 0s 326us/step - loss: 5.5340 - mean_absolute_error: 1.6738\n",
      "Epoch 75/80\n",
      "404/404 [==============================] - 0s 310us/step - loss: 5.3957 - mean_absolute_error: 1.5921\n",
      "Epoch 76/80\n",
      "404/404 [==============================] - 0s 421us/step - loss: 5.4516 - mean_absolute_error: 1.6300\n",
      "Epoch 77/80\n",
      "404/404 [==============================] - 0s 256us/step - loss: 5.3765 - mean_absolute_error: 1.5908\n",
      "Epoch 78/80\n",
      "404/404 [==============================] - 0s 272us/step - loss: 5.2917 - mean_absolute_error: 1.5964\n",
      "Epoch 79/80\n",
      "404/404 [==============================] - 0s 359us/step - loss: 5.1697 - mean_absolute_error: 1.5659\n",
      "Epoch 80/80\n",
      "404/404 [==============================] - 0s 386us/step - loss: 5.2384 - mean_absolute_error: 1.5770\n",
      "102/102 [==============================] - 0s 921us/step\n",
      "[16.58081428677428, 2.6452602405174104]\n"
     ]
    }
   ],
   "source": [
    "# 最终模型\n",
    "model = buildModel()\n",
    "model.fit(train_data,train_tar,epochs = 80,batch_size = 8)\n",
    "print(model.evaluate(test_data,test_tar))"
   ]
  }
 ],
 "metadata": {
  "kernelspec": {
   "display_name": "Python 3",
   "language": "python",
   "name": "python3"
  },
  "language_info": {
   "codemirror_mode": {
    "name": "ipython",
    "version": 3
   },
   "file_extension": ".py",
   "mimetype": "text/x-python",
   "name": "python",
   "nbconvert_exporter": "python",
   "pygments_lexer": "ipython3",
   "version": "3.6.8"
  }
 },
 "nbformat": 4,
 "nbformat_minor": 2
}
