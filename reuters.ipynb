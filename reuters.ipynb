{
 "cells": [
  {
   "cell_type": "code",
   "execution_count": 36,
   "metadata": {},
   "outputs": [],
   "source": [
    "# 加载数据\n",
    "from keras.datasets import reuters\n",
    "\n",
    "(train_data,train_lable),(test_data,test_lable) = reuters.load_data(num_words=10000)\n",
    "dic = reuters.get_word_index()\n",
    "\n",
    "rev_dic = dict([(key,val) for (val,key) in dic.items()])\n"
   ]
  },
  {
   "cell_type": "code",
   "execution_count": 37,
   "metadata": {},
   "outputs": [],
   "source": [
    "# 格式化数据\n",
    "import numpy as np\n",
    "def oneHot (data, size=10000):\n",
    "    res = np.zeros((len(data), size))\n",
    "    for i,da in enumerate(data):\n",
    "        res[i,da] = 1\n",
    "    return res\n",
    "x_train = oneHot(train_data)\n",
    "x_test = oneHot(test_data)\n",
    "\n",
    "y_train = oneHot(train_lable, size=46)\n",
    "y_test = oneHot(test_lable, size=46)\n",
    "\n",
    "#from keras.utils.np_utils import to_categorical\n",
    "#y_train = to_categorical(train_lable) 只能对一维数据进行OneHot编码"
   ]
  },
  {
   "cell_type": "code",
   "execution_count": 32,
   "metadata": {
    "collapsed": true
   },
   "outputs": [
    {
     "name": "stdout",
     "output_type": "stream",
     "text": [
      "Train on 7982 samples, validate on 1000 samples\n",
      "Epoch 1/15\n",
      "7982/7982 [==============================] - 1s 149us/step - loss: 2.5322 - acc: 0.4955 - val_loss: 1.7208 - val_acc: 0.6120\n",
      "Epoch 2/15\n",
      "7982/7982 [==============================] - 1s 104us/step - loss: 1.4452 - acc: 0.6879 - val_loss: 1.3459 - val_acc: 0.7060\n",
      "Epoch 3/15\n",
      "7982/7982 [==============================] - 1s 101us/step - loss: 1.0953 - acc: 0.7651 - val_loss: 1.1708 - val_acc: 0.7430\n",
      "Epoch 4/15\n",
      "7982/7982 [==============================] - 1s 112us/step - loss: 0.8697 - acc: 0.8165 - val_loss: 1.0793 - val_acc: 0.7590\n",
      "Epoch 5/15\n",
      "7982/7982 [==============================] - 1s 104us/step - loss: 0.7034 - acc: 0.8472 - val_loss: 0.9844 - val_acc: 0.7810\n",
      "Epoch 6/15\n",
      "7982/7982 [==============================] - 1s 104us/step - loss: 0.5667 - acc: 0.8802 - val_loss: 0.9411 - val_acc: 0.8040\n",
      "Epoch 7/15\n",
      "7982/7982 [==============================] - 1s 104us/step - loss: 0.4581 - acc: 0.9048 - val_loss: 0.9083 - val_acc: 0.8020\n",
      "Epoch 8/15\n",
      "7982/7982 [==============================] - 1s 102us/step - loss: 0.3695 - acc: 0.9231 - val_loss: 0.9363 - val_acc: 0.7890\n",
      "Epoch 9/15\n",
      "7982/7982 [==============================] - 1s 115us/step - loss: 0.3032 - acc: 0.9315 - val_loss: 0.8917 - val_acc: 0.8090\n",
      "Epoch 10/15\n",
      "7982/7982 [==============================] - 1s 100us/step - loss: 0.2537 - acc: 0.9414 - val_loss: 0.9071 - val_acc: 0.8110\n",
      "Epoch 11/15\n",
      "7982/7982 [==============================] - 1s 108us/step - loss: 0.2187 - acc: 0.9471 - val_loss: 0.9177 - val_acc: 0.8130\n",
      "Epoch 12/15\n",
      "7982/7982 [==============================] - 1s 112us/step - loss: 0.1873 - acc: 0.9508 - val_loss: 0.9027 - val_acc: 0.8130\n",
      "Epoch 13/15\n",
      "7982/7982 [==============================] - 1s 103us/step - loss: 0.1703 - acc: 0.9521 - val_loss: 0.9323 - val_acc: 0.8110\n",
      "Epoch 14/15\n",
      "7982/7982 [==============================] - 1s 100us/step - loss: 0.1536 - acc: 0.9554 - val_loss: 0.9689 - val_acc: 0.8050\n",
      "Epoch 15/15\n",
      "7982/7982 [==============================] - 1s 102us/step - loss: 0.1390 - acc: 0.9560 - val_loss: 0.9686 - val_acc: 0.8150\n"
     ]
    }
   ],
   "source": [
    "# 对一维数据的另一种编码方法 \n",
    "y_train = np.array(train_lable)\n",
    "y_test = np.array(test_lable)\n",
    "\n",
    "# 网络搭建只需改损失函数\n",
    "from keras import models\n",
    "from keras import layers\n",
    "\n",
    "model = models.Sequential()\n",
    "model.add(layers.Dense(64, activation = 'relu', input_shape = (10000, )))\n",
    "model.add(layers.Dense(64, activation = 'relu'))\n",
    "model.add(layers.Dense(46, activation = 'softmax'))\n",
    "\n",
    "model.compile(optimizer='rmsprop', loss='sparse_categorical_crossentropy', metrics=['acc'])\n",
    "\n",
    "x_val = x_train[:1000]\n",
    "x_to_train = x_train[1000:]\n",
    "\n",
    "y_val = y_train[:1000]\n",
    "y_to_train = y_train[1000:]\n",
    "\n",
    "his = model.fit(x_to_train, y_to_train, epochs=13, batch_size=512, validation_data=(x_val,y_val))\n"
   ]
  },
  {
   "cell_type": "code",
   "execution_count": 3,
   "metadata": {
    "collapsed": true
   },
   "outputs": [
    {
     "name": "stdout",
     "output_type": "stream",
     "text": [
      "Train on 7982 samples, validate on 1000 samples\n",
      "Epoch 1/15\n",
      "7982/7982 [==============================] - 2s 202us/step - loss: 2.5322 - acc: 0.4955 - val_loss: 1.7208 - val_acc: 0.6120\n",
      "Epoch 2/15\n",
      "7982/7982 [==============================] - 1s 119us/step - loss: 1.4452 - acc: 0.6879 - val_loss: 1.3459 - val_acc: 0.7060\n",
      "Epoch 3/15\n",
      "7982/7982 [==============================] - 1s 95us/step - loss: 1.0953 - acc: 0.7651 - val_loss: 1.1708 - val_acc: 0.7430\n",
      "Epoch 4/15\n",
      "7982/7982 [==============================] - 1s 95us/step - loss: 0.8697 - acc: 0.8165 - val_loss: 1.0793 - val_acc: 0.7590\n",
      "Epoch 5/15\n",
      "7982/7982 [==============================] - 1s 95us/step - loss: 0.7034 - acc: 0.8472 - val_loss: 0.9844 - val_acc: 0.7810\n",
      "Epoch 6/15\n",
      "7982/7982 [==============================] - 1s 95us/step - loss: 0.5667 - acc: 0.8802 - val_loss: 0.9411 - val_acc: 0.8040\n",
      "Epoch 7/15\n",
      "7982/7982 [==============================] - 1s 97us/step - loss: 0.4581 - acc: 0.9048 - val_loss: 0.9083 - val_acc: 0.8020\n",
      "Epoch 8/15\n",
      "7982/7982 [==============================] - 1s 104us/step - loss: 0.3695 - acc: 0.9231 - val_loss: 0.9363 - val_acc: 0.7890\n",
      "Epoch 9/15\n",
      "7982/7982 [==============================] - 1s 97us/step - loss: 0.3032 - acc: 0.9315 - val_loss: 0.8917 - val_acc: 0.8090\n",
      "Epoch 10/15\n",
      "7982/7982 [==============================] - 1s 95us/step - loss: 0.2537 - acc: 0.9414 - val_loss: 0.9071 - val_acc: 0.8110\n",
      "Epoch 11/15\n",
      "7982/7982 [==============================] - 1s 105us/step - loss: 0.2187 - acc: 0.9471 - val_loss: 0.9177 - val_acc: 0.8130\n",
      "Epoch 12/15\n",
      "7982/7982 [==============================] - 1s 97us/step - loss: 0.1873 - acc: 0.9508 - val_loss: 0.9027 - val_acc: 0.8130\n",
      "Epoch 13/15\n",
      "7982/7982 [==============================] - 1s 94us/step - loss: 0.1703 - acc: 0.9521 - val_loss: 0.9323 - val_acc: 0.8110\n",
      "Epoch 14/15\n",
      "7982/7982 [==============================] - 1s 109us/step - loss: 0.1536 - acc: 0.9554 - val_loss: 0.9689 - val_acc: 0.8050\n",
      "Epoch 15/15\n",
      "7982/7982 [==============================] - 1s 96us/step - loss: 0.1390 - acc: 0.9560 - val_loss: 0.9686 - val_acc: 0.8150\n"
     ]
    }
   ],
   "source": [
    "# 搭建网络\n",
    "from keras import models\n",
    "from keras import layers\n",
    "\n",
    "model = models.Sequential()\n",
    "model.add(layers.Dense(64, activation = 'relu', input_shape = (10000, )))\n",
    "model.add(layers.Dense(64, activation = 'relu'))\n",
    "model.add(layers.Dense(46, activation = 'softmax'))\n",
    "\n",
    "model.compile(optimizer='rmsprop', loss='categorical_crossentropy', metrics=['acc'])\n",
    "\n",
    "x_val = x_train[:1000]\n",
    "x_to_train = x_train[1000:]\n",
    "\n",
    "y_val = y_train[:1000]\n",
    "y_to_train = y_train[1000:]\n",
    "\n",
    "his = model.fit(x_to_train, y_to_train, epochs=15, batch_size=512, validation_data=(x_val,y_val))\n"
   ]
  },
  {
   "cell_type": "code",
   "execution_count": 43,
   "metadata": {
    "scrolled": true
   },
   "outputs": [
    {
     "data": {
      "image/png": "[encoded data removed]",
      "text/plain": [
       "<Figure size 1152x648 with 2 Axes>"
      ]
     },
     "metadata": {
      "needs_background": "light"
     },
     "output_type": "display_data"
    }
   ],
   "source": [
    "# 生成图像分析\n",
    "import matplotlib.pyplot as plt\n",
    "%matplotlib inline\n",
    "\n",
    "l_val_loss = his.history['val_loss']\n",
    "l_val_acc = his.history['val_acc']\n",
    "l_loss = his.history['loss']\n",
    "l_acc = his.history['acc']\n",
    "\n",
    "epochs = range(1,len(l_acc)+1)\n",
    "\n",
    "plt.figure(figsize=(16, 9)) # 设置图表大小\n",
    "plt.subplot(222) # 拆分子块\n",
    "plt.plot(epochs, l_acc, 'ro', label='Training acc') # 'bo'蓝点\n",
    "plt.plot(epochs, l_val_acc, label='Validation acc') # 'b'蓝线\n",
    "\n",
    "plt.title('Training and validation acc')\n",
    "plt.xlabel('epochs')\n",
    "plt.ylabel('acc')\n",
    "plt.legend()\n",
    "\n",
    "plt.subplot(221)\n",
    "plt.plot(epochs, l_loss, 'ro', label='Training loss')\n",
    "plt.plot(epochs, l_val_loss, label='Validation loss')\n",
    "\n",
    "plt.title('Training and validation loss')\n",
    "plt.xlabel('epochss')\n",
    "plt.ylabel('loss')\n",
    "plt.legend()\n",
    "\n",
    "plt.show()"
   ]
  },
  {
   "cell_type": "code",
   "execution_count": 40,
   "metadata": {
    "collapsed": true
   },
   "outputs": [
    {
     "name": "stdout",
     "output_type": "stream",
     "text": [
      "Train on 7982 samples, validate on 1000 samples\n",
      "Epoch 1/6\n",
      "7982/7982 [==============================] - 1s 142us/step - loss: 2.5444 - acc: 0.5035 - val_loss: 1.7139 - val_acc: 0.6310\n",
      "Epoch 2/6\n",
      "7982/7982 [==============================] - 1s 103us/step - loss: 1.4054 - acc: 0.7027 - val_loss: 1.3104 - val_acc: 0.7160\n",
      "Epoch 3/6\n",
      "7982/7982 [==============================] - 1s 107us/step - loss: 1.0430 - acc: 0.7796 - val_loss: 1.1350 - val_acc: 0.7640\n",
      "Epoch 4/6\n",
      "7982/7982 [==============================] - 1s 105us/step - loss: 0.8126 - acc: 0.8291 - val_loss: 1.0442 - val_acc: 0.7840\n",
      "Epoch 5/6\n",
      "7982/7982 [==============================] - 1s 112us/step - loss: 0.6429 - acc: 0.8644 - val_loss: 0.9680 - val_acc: 0.8040\n",
      "Epoch 6/6\n",
      "7982/7982 [==============================] - 1s 102us/step - loss: 0.5178 - acc: 0.8933 - val_loss: 0.9336 - val_acc: 0.7990\n",
      "2246/2246 [==============================] - 0s 104us/step\n",
      "[1.003095059339637, 0.7760463045679451]\n"
     ]
    }
   ],
   "source": [
    "# 6论后精度最高\n",
    "from keras import models\n",
    "from keras import layers\n",
    "\n",
    "model = models.Sequential()\n",
    "model.add(layers.Dense(64, activation = 'relu', input_shape = (10000, )))\n",
    "model.add(layers.Dense(64, activation = 'relu'))\n",
    "model.add(layers.Dense(46, activation = 'softmax'))\n",
    "\n",
    "model.compile(optimizer='rmsprop', loss='categorical_crossentropy', metrics=['acc'])\n",
    "\n",
    "x_val = x_train[:1000]\n",
    "x_to_train = x_train[1000:]\n",
    "\n",
    "y_val = y_train[:1000]\n",
    "y_to_train = y_train[1000:]\n",
    "\n",
    "his = model.fit(x_to_train, y_to_train, epochs=6, batch_size=512, validation_data=(x_val,y_val))\n",
    "\n",
    "res = model.evaluate(x_test,y_test)\n",
    "print(res)"
   ]
  },
  {
   "cell_type": "code",
   "execution_count": 24,
   "metadata": {
    "scrolled": true
   },
   "outputs": [
    {
     "name": "stdout",
     "output_type": "stream",
     "text": [
      "[5.2681670e-04 8.5765281e-04 2.1075521e-04 4.7696003e-01 4.6198273e-01\n",
      " 4.1129443e-04 1.6009040e-03 1.7311542e-04 6.4325188e-03 3.3052613e-03\n",
      " 2.6725541e-04 4.4894912e-03 3.2654440e-03 5.8406242e-03 1.8875478e-04\n",
      " 1.9135507e-04 1.5913644e-03 6.1660400e-04 1.2360568e-03 9.8820310e-04\n",
      " 6.0101328e-03 1.3612026e-03 1.0333036e-03 7.8465935e-04 5.6817359e-04\n",
      " 3.6244944e-03 6.3374078e-05 1.3124082e-03 1.6783876e-04 9.1272290e-04\n",
      " 1.3661255e-04 8.5577811e-04 4.5068773e-05 1.1190024e-04 3.7435484e-03\n",
      " 3.2264295e-05 3.3328133e-03 1.3182392e-04 9.9104655e-05 2.1152804e-03\n",
      " 6.0999510e-04 1.7971027e-04 5.5685744e-04 4.0629072e-04 5.3976389e-04\n",
      " 1.2857169e-04]\n",
      "类别是：3\n"
     ]
    }
   ],
   "source": [
    "# 获取预测结果\n",
    "pre = model.predict(x_test)\n",
    "print(pre[0])\n",
    "print(\"类别是：\"+ str(np.argmax(pre[0])))"
   ]
  },
  {
   "cell_type": "markdown",
   "metadata": {},
   "source": [
    "##  下面是测试代码"
   ]
  },
  {
   "cell_type": "code",
   "execution_count": 46,
   "metadata": {
    "collapsed": true
   },
   "outputs": [
    {
     "name": "stdout",
     "output_type": "stream",
     "text": [
      "Train on 7982 samples, validate on 1000 samples\n",
      "Epoch 1/10\n",
      "7982/7982 [==============================] - 1s 161us/step - loss: 3.7466 - acc: 0.0635 - val_loss: 3.6571 - val_acc: 0.0840\n",
      "Epoch 2/10\n",
      "7982/7982 [==============================] - 1s 106us/step - loss: 3.5749 - acc: 0.0787 - val_loss: 3.5102 - val_acc: 0.0560\n",
      "Epoch 3/10\n",
      "7982/7982 [==============================] - 1s 104us/step - loss: 3.4052 - acc: 0.0661 - val_loss: 3.3556 - val_acc: 0.0560\n",
      "Epoch 4/10\n",
      "7982/7982 [==============================] - 1s 110us/step - loss: 3.2237 - acc: 0.0874 - val_loss: 3.1854 - val_acc: 0.2140\n",
      "Epoch 5/10\n",
      "7982/7982 [==============================] - 1s 105us/step - loss: 3.0252 - acc: 0.3619 - val_loss: 3.0022 - val_acc: 0.3890\n",
      "Epoch 6/10\n",
      "5120/7982 [==================>...........] - ETA: 0s - loss: 2.8465 - acc: 0.4062"
     ]
    },
    {
     "ename": "KeyboardInterrupt",
     "evalue": "",
     "output_type": "error",
     "traceback": [
      "\u001b[0;31m---------------------------------------------------------------------------\u001b[0m",
      "\u001b[0;31mKeyboardInterrupt\u001b[0m                         Traceback (most recent call last)",
      "\u001b[0;32m<ipython-input-46-6013d3bfacfb>\u001b[0m in \u001b[0;36m<module>\u001b[0;34m\u001b[0m\n\u001b[1;32m     16\u001b[0m \u001b[0my_to_train\u001b[0m \u001b[0;34m=\u001b[0m \u001b[0my_train\u001b[0m\u001b[0;34m[\u001b[0m\u001b[0;36m1000\u001b[0m\u001b[0;34m:\u001b[0m\u001b[0;34m]\u001b[0m\u001b[0;34m\u001b[0m\u001b[0;34m\u001b[0m\u001b[0m\n\u001b[1;32m     17\u001b[0m \u001b[0;34m\u001b[0m\u001b[0m\n\u001b[0;32m---> 18\u001b[0;31m \u001b[0mhis\u001b[0m \u001b[0;34m=\u001b[0m \u001b[0mmodel\u001b[0m\u001b[0;34m.\u001b[0m\u001b[0mfit\u001b[0m\u001b[0;34m(\u001b[0m\u001b[0mx_to_train\u001b[0m\u001b[0;34m,\u001b[0m \u001b[0my_to_train\u001b[0m\u001b[0;34m,\u001b[0m \u001b[0mepochs\u001b[0m\u001b[0;34m=\u001b[0m\u001b[0;36m10\u001b[0m\u001b[0;34m,\u001b[0m \u001b[0mbatch_size\u001b[0m\u001b[0;34m=\u001b[0m\u001b[0;36m512\u001b[0m\u001b[0;34m,\u001b[0m \u001b[0mvalidation_data\u001b[0m\u001b[0;34m=\u001b[0m\u001b[0;34m(\u001b[0m\u001b[0mx_val\u001b[0m\u001b[0;34m,\u001b[0m\u001b[0my_val\u001b[0m\u001b[0;34m)\u001b[0m\u001b[0;34m)\u001b[0m\u001b[0;34m\u001b[0m\u001b[0;34m\u001b[0m\u001b[0m\n\u001b[0m\u001b[1;32m     19\u001b[0m \u001b[0;34m\u001b[0m\u001b[0m\n\u001b[1;32m     20\u001b[0m \u001b[0mres\u001b[0m \u001b[0;34m=\u001b[0m \u001b[0mmodel\u001b[0m\u001b[0;34m.\u001b[0m\u001b[0mevaluate\u001b[0m\u001b[0;34m(\u001b[0m\u001b[0mx_test\u001b[0m\u001b[0;34m,\u001b[0m\u001b[0my_test\u001b[0m\u001b[0;34m)\u001b[0m\u001b[0;34m\u001b[0m\u001b[0;34m\u001b[0m\u001b[0m\n",
      "\u001b[0;32m/usr/local/lib/python3.6/site-packages/Keras-2.2.4-py3.6.egg/keras/engine/training.py\u001b[0m in \u001b[0;36mfit\u001b[0;34m(self, x, y, batch_size, epochs, verbose, callbacks, validation_split, validation_data, shuffle, class_weight, sample_weight, initial_epoch, steps_per_epoch, validation_steps, **kwargs)\u001b[0m\n\u001b[1;32m   1038\u001b[0m                                         \u001b[0minitial_epoch\u001b[0m\u001b[0;34m=\u001b[0m\u001b[0minitial_epoch\u001b[0m\u001b[0;34m,\u001b[0m\u001b[0;34m\u001b[0m\u001b[0;34m\u001b[0m\u001b[0m\n\u001b[1;32m   1039\u001b[0m                                         \u001b[0msteps_per_epoch\u001b[0m\u001b[0;34m=\u001b[0m\u001b[0msteps_per_epoch\u001b[0m\u001b[0;34m,\u001b[0m\u001b[0;34m\u001b[0m\u001b[0;34m\u001b[0m\u001b[0m\n\u001b[0;32m-> 1040\u001b[0;31m                                         validation_steps=validation_steps)\n\u001b[0m\u001b[1;32m   1041\u001b[0m \u001b[0;34m\u001b[0m\u001b[0m\n\u001b[1;32m   1042\u001b[0m     def evaluate(self, x=None, y=None,\n",
      "\u001b[0;32m/usr/local/lib/python3.6/site-packages/Keras-2.2.4-py3.6.egg/keras/engine/training_arrays.py\u001b[0m in \u001b[0;36mfit_loop\u001b[0;34m(model, fit_function, fit_inputs, out_labels, batch_size, epochs, verbose, callbacks, val_function, val_inputs, shuffle, callback_metrics, initial_epoch, steps_per_epoch, validation_steps)\u001b[0m\n\u001b[1;32m    198\u001b[0m                     \u001b[0mins_batch\u001b[0m\u001b[0;34m[\u001b[0m\u001b[0mi\u001b[0m\u001b[0;34m]\u001b[0m \u001b[0;34m=\u001b[0m \u001b[0mins_batch\u001b[0m\u001b[0;34m[\u001b[0m\u001b[0mi\u001b[0m\u001b[0;34m]\u001b[0m\u001b[0;34m.\u001b[0m\u001b[0mtoarray\u001b[0m\u001b[0;34m(\u001b[0m\u001b[0;34m)\u001b[0m\u001b[0;34m\u001b[0m\u001b[0;34m\u001b[0m\u001b[0m\n\u001b[1;32m    199\u001b[0m \u001b[0;34m\u001b[0m\u001b[0m\n\u001b[0;32m--> 200\u001b[0;31m                 \u001b[0mouts\u001b[0m \u001b[0;34m=\u001b[0m \u001b[0mfit_function\u001b[0m\u001b[0;34m(\u001b[0m\u001b[0mins_batch\u001b[0m\u001b[0;34m)\u001b[0m\u001b[0;34m\u001b[0m\u001b[0;34m\u001b[0m\u001b[0m\n\u001b[0m\u001b[1;32m    201\u001b[0m                 \u001b[0mouts\u001b[0m \u001b[0;34m=\u001b[0m \u001b[0mto_list\u001b[0m\u001b[0;34m(\u001b[0m\u001b[0mouts\u001b[0m\u001b[0;34m)\u001b[0m\u001b[0;34m\u001b[0m\u001b[0;34m\u001b[0m\u001b[0m\n\u001b[1;32m    202\u001b[0m                 \u001b[0;32mfor\u001b[0m \u001b[0ml\u001b[0m\u001b[0;34m,\u001b[0m \u001b[0mo\u001b[0m \u001b[0;32min\u001b[0m \u001b[0mzip\u001b[0m\u001b[0;34m(\u001b[0m\u001b[0mout_labels\u001b[0m\u001b[0;34m,\u001b[0m \u001b[0mouts\u001b[0m\u001b[0;34m)\u001b[0m\u001b[0;34m:\u001b[0m\u001b[0;34m\u001b[0m\u001b[0;34m\u001b[0m\u001b[0m\n",
      "\u001b[0;32m/usr/local/lib/python3.6/site-packages/Keras-2.2.4-py3.6.egg/keras/backend/tensorflow_backend.py\u001b[0m in \u001b[0;36m__call__\u001b[0;34m(self, inputs)\u001b[0m\n\u001b[1;32m   2895\u001b[0m                     \u001b[0;32mreturn\u001b[0m \u001b[0mself\u001b[0m\u001b[0;34m.\u001b[0m\u001b[0m_legacy_call\u001b[0m\u001b[0;34m(\u001b[0m\u001b[0minputs\u001b[0m\u001b[0;34m)\u001b[0m\u001b[0;34m\u001b[0m\u001b[0;34m\u001b[0m\u001b[0m\n\u001b[1;32m   2896\u001b[0m \u001b[0;34m\u001b[0m\u001b[0m\n\u001b[0;32m-> 2897\u001b[0;31m             \u001b[0;32mreturn\u001b[0m \u001b[0mself\u001b[0m\u001b[0;34m.\u001b[0m\u001b[0m_call\u001b[0m\u001b[0;34m(\u001b[0m\u001b[0minputs\u001b[0m\u001b[0;34m)\u001b[0m\u001b[0;34m\u001b[0m\u001b[0;34m\u001b[0m\u001b[0m\n\u001b[0m\u001b[1;32m   2898\u001b[0m         \u001b[0;32melse\u001b[0m\u001b[0;34m:\u001b[0m\u001b[0;34m\u001b[0m\u001b[0;34m\u001b[0m\u001b[0m\n\u001b[1;32m   2899\u001b[0m             \u001b[0;32mif\u001b[0m \u001b[0mpy_any\u001b[0m\u001b[0;34m(\u001b[0m\u001b[0mis_tensor\u001b[0m\u001b[0;34m(\u001b[0m\u001b[0mx\u001b[0m\u001b[0;34m)\u001b[0m \u001b[0;32mfor\u001b[0m \u001b[0mx\u001b[0m \u001b[0;32min\u001b[0m \u001b[0minputs\u001b[0m\u001b[0;34m)\u001b[0m\u001b[0;34m:\u001b[0m\u001b[0;34m\u001b[0m\u001b[0;34m\u001b[0m\u001b[0m\n",
      "\u001b[0;32m/usr/local/lib/python3.6/site-packages/Keras-2.2.4-py3.6.egg/keras/backend/tensorflow_backend.py\u001b[0m in \u001b[0;36m_call\u001b[0;34m(self, inputs)\u001b[0m\n\u001b[1;32m   2853\u001b[0m             \u001b[0mfetched\u001b[0m \u001b[0;34m=\u001b[0m \u001b[0mself\u001b[0m\u001b[0;34m.\u001b[0m\u001b[0m_callable_fn\u001b[0m\u001b[0;34m(\u001b[0m\u001b[0;34m*\u001b[0m\u001b[0marray_vals\u001b[0m\u001b[0;34m,\u001b[0m \u001b[0mrun_metadata\u001b[0m\u001b[0;34m=\u001b[0m\u001b[0mself\u001b[0m\u001b[0;34m.\u001b[0m\u001b[0mrun_metadata\u001b[0m\u001b[0;34m)\u001b[0m\u001b[0;34m\u001b[0m\u001b[0;34m\u001b[0m\u001b[0m\n\u001b[1;32m   2854\u001b[0m         \u001b[0;32melse\u001b[0m\u001b[0;34m:\u001b[0m\u001b[0;34m\u001b[0m\u001b[0;34m\u001b[0m\u001b[0m\n\u001b[0;32m-> 2855\u001b[0;31m             \u001b[0mfetched\u001b[0m \u001b[0;34m=\u001b[0m \u001b[0mself\u001b[0m\u001b[0;34m.\u001b[0m\u001b[0m_callable_fn\u001b[0m\u001b[0;34m(\u001b[0m\u001b[0;34m*\u001b[0m\u001b[0marray_vals\u001b[0m\u001b[0;34m)\u001b[0m\u001b[0;34m\u001b[0m\u001b[0;34m\u001b[0m\u001b[0m\n\u001b[0m\u001b[1;32m   2856\u001b[0m         \u001b[0;32mreturn\u001b[0m \u001b[0mfetched\u001b[0m\u001b[0;34m[\u001b[0m\u001b[0;34m:\u001b[0m\u001b[0mlen\u001b[0m\u001b[0;34m(\u001b[0m\u001b[0mself\u001b[0m\u001b[0;34m.\u001b[0m\u001b[0moutputs\u001b[0m\u001b[0;34m)\u001b[0m\u001b[0;34m]\u001b[0m\u001b[0;34m\u001b[0m\u001b[0;34m\u001b[0m\u001b[0m\n\u001b[1;32m   2857\u001b[0m \u001b[0;34m\u001b[0m\u001b[0m\n",
      "\u001b[0;32m/usr/local/lib/python3.6/site-packages/tensorflow/python/client/session.py\u001b[0m in \u001b[0;36m__call__\u001b[0;34m(self, *args, **kwargs)\u001b[0m\n\u001b[1;32m   1437\u001b[0m           ret = tf_session.TF_SessionRunCallable(\n\u001b[1;32m   1438\u001b[0m               \u001b[0mself\u001b[0m\u001b[0;34m.\u001b[0m\u001b[0m_session\u001b[0m\u001b[0;34m.\u001b[0m\u001b[0m_session\u001b[0m\u001b[0;34m,\u001b[0m \u001b[0mself\u001b[0m\u001b[0;34m.\u001b[0m\u001b[0m_handle\u001b[0m\u001b[0;34m,\u001b[0m \u001b[0margs\u001b[0m\u001b[0;34m,\u001b[0m \u001b[0mstatus\u001b[0m\u001b[0;34m,\u001b[0m\u001b[0;34m\u001b[0m\u001b[0;34m\u001b[0m\u001b[0m\n\u001b[0;32m-> 1439\u001b[0;31m               run_metadata_ptr)\n\u001b[0m\u001b[1;32m   1440\u001b[0m         \u001b[0;32mif\u001b[0m \u001b[0mrun_metadata\u001b[0m\u001b[0;34m:\u001b[0m\u001b[0;34m\u001b[0m\u001b[0;34m\u001b[0m\u001b[0m\n\u001b[1;32m   1441\u001b[0m           \u001b[0mproto_data\u001b[0m \u001b[0;34m=\u001b[0m \u001b[0mtf_session\u001b[0m\u001b[0;34m.\u001b[0m\u001b[0mTF_GetBuffer\u001b[0m\u001b[0;34m(\u001b[0m\u001b[0mrun_metadata_ptr\u001b[0m\u001b[0;34m)\u001b[0m\u001b[0;34m\u001b[0m\u001b[0;34m\u001b[0m\u001b[0m\n",
      "\u001b[0;31mKeyboardInterrupt\u001b[0m: "
     ]
    }
   ],
   "source": [
    "# 测试中间层神经元个数少的情况   太少会存在精度下降  但稍微少反而会增加精度\n",
    "from keras import models\n",
    "from keras import layers\n",
    "\n",
    "model = models.Sequential()\n",
    "model.add(layers.Dense(16, activation = 'relu', input_shape = (10000, )))\n",
    "model.add(layers.Dense(4, activation = 'relu'))\n",
    "model.add(layers.Dense(46, activation = 'softmax'))\n",
    "\n",
    "model.compile(optimizer='rmsprop', loss='categorical_crossentropy', metrics=['acc'])\n",
    "\n",
    "x_val = x_train[:1000]\n",
    "x_to_train = x_train[1000:]\n",
    "\n",
    "y_val = y_train[:1000]\n",
    "y_to_train = y_train[1000:]\n",
    "\n",
    "his = model.fit(x_to_train, y_to_train, epochs=15, batch_size=512, validation_data=(x_val,y_val))\n",
    "\n",
    "res = model.evaluate(x_test,y_test)\n",
    "print(res)"
   ]
  },
  {
   "cell_type": "code",
   "execution_count": 49,
   "metadata": {},
   "outputs": [
    {
     "name": "stdout",
     "output_type": "stream",
     "text": [
      "Train on 7982 samples, validate on 1000 samples\n",
      "Epoch 1/12\n",
      "7982/7982 [==============================] - 1s 148us/step - loss: 2.6882 - acc: 0.5428 - val_loss: 1.9439 - val_acc: 0.6580\n",
      "Epoch 2/12\n",
      "7982/7982 [==============================] - 1s 83us/step - loss: 1.5504 - acc: 0.7215 - val_loss: 1.4118 - val_acc: 0.7280\n",
      "Epoch 3/12\n",
      "7982/7982 [==============================] - 1s 83us/step - loss: 1.1069 - acc: 0.7865 - val_loss: 1.1717 - val_acc: 0.7670\n",
      "Epoch 4/12\n",
      "7982/7982 [==============================] - 1s 94us/step - loss: 0.8536 - acc: 0.8305 - val_loss: 1.0422 - val_acc: 0.7890\n",
      "Epoch 5/12\n",
      "7982/7982 [==============================] - 1s 82us/step - loss: 0.6815 - acc: 0.8666 - val_loss: 0.9547 - val_acc: 0.8040\n",
      "Epoch 6/12\n",
      "7982/7982 [==============================] - 1s 95us/step - loss: 0.5528 - acc: 0.8923 - val_loss: 0.8986 - val_acc: 0.8150\n",
      "Epoch 7/12\n",
      "7982/7982 [==============================] - 1s 83us/step - loss: 0.4574 - acc: 0.9095 - val_loss: 0.8549 - val_acc: 0.8240\n",
      "Epoch 8/12\n",
      "7982/7982 [==============================] - 1s 82us/step - loss: 0.3821 - acc: 0.9217 - val_loss: 0.8414 - val_acc: 0.8250\n",
      "Epoch 9/12\n",
      "7982/7982 [==============================] - 1s 95us/step - loss: 0.3205 - acc: 0.9345 - val_loss: 0.8298 - val_acc: 0.8210\n",
      "Epoch 10/12\n",
      "7982/7982 [==============================] - 1s 83us/step - loss: 0.2762 - acc: 0.9385 - val_loss: 0.8239 - val_acc: 0.8240\n",
      "Epoch 11/12\n",
      "7982/7982 [==============================] - 1s 83us/step - loss: 0.2370 - acc: 0.9458 - val_loss: 0.8158 - val_acc: 0.8320\n",
      "Epoch 12/12\n",
      "7982/7982 [==============================] - 1s 94us/step - loss: 0.2077 - acc: 0.9493 - val_loss: 0.8246 - val_acc: 0.8300\n",
      "2246/2246 [==============================] - 0s 112us/step\n",
      "[0.9190735481513577, 0.8072128228491582]\n"
     ]
    }
   ],
   "source": [
    "# 测试隐层数量变化对精度的影响  单隐层精度提高 \n",
    "from keras import models\n",
    "from keras import layers\n",
    "\n",
    "model = models.Sequential()\n",
    "model.add(layers.Dense(64, activation = 'relu', input_shape = (10000, )))\n",
    "model.add(layers.Dense(46, activation = 'softmax'))\n",
    "\n",
    "model.compile(optimizer='rmsprop', loss='categorical_crossentropy', metrics=['acc'])\n",
    "\n",
    "x_val = x_train[:1000]\n",
    "x_to_train = x_train[1000:]\n",
    "\n",
    "y_val = y_train[:1000]\n",
    "y_to_train = y_train[1000:]\n",
    "\n",
    "his = model.fit(x_to_train, y_to_train, epochs=12, batch_size=512, validation_data=(x_val,y_val))\n",
    "\n",
    "res = model.evaluate(x_test,y_test)\n",
    "print(res)"
   ]
  }
 ],
 "metadata": {
  "kernelspec": {
   "display_name": "Python 3",
   "language": "python",
   "name": "python3"
  },
  "language_info": {
   "codemirror_mode": {
    "name": "ipython",
    "version": 3
   },
   "file_extension": ".py",
   "mimetype": "text/x-python",
   "name": "python",
   "nbconvert_exporter": "python",
   "pygments_lexer": "ipython3",
   "version": "3.6.8"
  }
 },
 "nbformat": 4,
 "nbformat_minor": 2
}
